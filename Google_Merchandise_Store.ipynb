{
  "nbformat": 4,
  "nbformat_minor": 0,
  "metadata": {
    "colab": {
      "provenance": [],
      "include_colab_link": true
    },
    "kernelspec": {
      "name": "python3",
      "display_name": "Python 3"
    },
    "language_info": {
      "name": "python"
    }
  },
  "cells": [
    {
      "cell_type": "markdown",
      "metadata": {
        "id": "view-in-github",
        "colab_type": "text"
      },
      "source": [
        "<a href=\"https://colab.research.google.com/github/srkpriyanka95/Google-Merchandise-Store---Looker-studio-dashboard/blob/main/Google_Merchandise_Store.ipynb\" target=\"_parent\"><img src=\"https://colab.research.google.com/assets/colab-badge.svg\" alt=\"Open In Colab\"/></a>"
      ]
    },
    {
      "cell_type": "markdown",
      "source": [
        "#**Link to Assignment Dashboard in Looker Studio :** \n",
        "\n",
        "https://lookerstudio.google.com/reporting/46168b0e-6011-48d4-a9c1-81763cf00e9f"
      ],
      "metadata": {
        "id": "_uIDwBQxvtx3"
      }
    },
    {
      "cell_type": "markdown",
      "source": [
        "#**1. SWOT Analysis on the Google Merchandise Store website:**\n",
        "\n",
        "\n",
        "---\n",
        "\n",
        "\n",
        "**Strength:**\n",
        "* Google is a brand recognized by everyone around the world. It's a strength of the Google Merchandise store in brand recognition.\n",
        "* Google Merchandise store shines with its shipping features so that customers around the globe can purchase products on the website.\n",
        "* The products sold on the Google Merchandise store are from environmentally sustainable materials, and the packaging is either recyclable or from recycled products, which makes the firm more eco-friendly.\n",
        "* There is a wide range of products in the Google Merchandise store, and the quality of the product is up to the bar, i.e., the products are robust and long-lasting.\n",
        "\n",
        "**Weakness:**\n",
        "* Although there are many different product categories, we can observe a lack of product diversity, which limits the alternatives for customers.\n",
        "* The products are a little expensive and discourage many buyers from purchasing them.\n",
        "* Certain products require additional shipping charges, which increases the overall product price\n",
        "\n",
        "**Opportunities:**\n",
        "* Google Merchandise store has an opportunity to introduce new products in different categories, which might attract more customers.\n",
        "* Collaborate with partners to introduce new products in limited editions (for a short period).\n",
        "* Introduce customized products to give customers a sense of exclusivity regarding their purchases. \n",
        "* Target different niches with exclusive products that might attract more customers. For instance, we can introduce products by combining art and technology to people who enjoy the arts.\n",
        "\n",
        "**Threats**\n",
        "* Due to Google's strong brand recognition, Unauthorised sellers may offer counterfeit goods, as in the Google Merchandise store.\n",
        "* Other competitors may start something similar to a Google Merchandise store and sell tech products.\n",
        "* As the products are expensive, whenever there is an economic decline, there is a possibility for a decrease in sales.\n",
        "* The Google Merchandise store accepts orders from people all over the world. If there is a shipment issue, it could hurt the company's reputation and leads to customer dissatisfaction.\n",
        "---\n"
      ],
      "metadata": {
        "id": "cDrd8_LBvmdt"
      }
    },
    {
      "cell_type": "markdown",
      "source": [
        "#**2. Features of the dataset to perform A/B Testing**\n",
        "\n",
        "\n",
        "---\n",
        "* Page title\n",
        "* Product description\n",
        "* Placing promotional offers in different pages\n",
        "* Product Images\n",
        "* Personalized home page\n",
        "* Content\n",
        "\n",
        "**We might also try different methods to increase conversion such as :**\n",
        "* Creating a Page to view frequently bought products\n",
        "* Reminder message for products in cart\n",
        "* Send message to customer's if there is a price drop in products added to cart\n",
        "* Promotional message for product in cart\n",
        "\n"
      ],
      "metadata": {
        "id": "VsHXn6j7FMIS"
      }
    },
    {
      "cell_type": "markdown",
      "source": [
        "#**3. Different types of A/B tests to perform on a dataset:**\n",
        "\n",
        "\n",
        "---\n",
        "\n",
        "\n",
        "\n",
        "\n",
        "\n",
        "**A/B Testing:**\n",
        "  * A/B testing is an experiment used to compare the results of two treatments across two groups and identify the group that performed better. One is a control group, and the other is a treatment group. The treatment group receives new modifications to the current model, while the control group follows the existing model.\n",
        "\n",
        "  The different types of A/B testing are:\n",
        "\n",
        "    * Multi-variate Testing\n",
        "    * Multi-Page Funnel Testing\n",
        "    * Split URL Testing\n",
        "    * Persnolization Testing\n",
        "\n",
        "**Multi-variate Testing:**\n",
        " * In multivariate testing, the treatment group gets combinations of multiple changes in the elements or features over an existing model as a control group and finds the combination that works better than others. Conventional A/B testing involves changing only one change in the treatment group.\n",
        "\n",
        "**Multi-Page Funnel Testing:**\n",
        "* In multipage testing, the entire flow in the funnel gets monitored for a change of elements in the treatment group over the control group. For instance, how does the funnel change for a change in the title of a product? We monitor the changes in every step in the funnel and find the better-performing group.\n",
        "\n",
        "**Split URL Testing:**\n",
        "* Split URL testing is similar to traditional A/B testing. When there are drastic design changes in the website, then Split URL testing is used, and A/B testing when minor changes in the site. Split URL testing measures the conversion rate between the control group (using Existing URL) and treatment group (New URL with design change) and decides based on the output.\n",
        "\n",
        "**Personalized Testing:**\n",
        "* The treatment group in personalized testing sees a more customized version, while the control group sees the current webpage. For instance, the treatment group might get customized recommendations based on their previous preferences.\n",
        "\n",
        "\n",
        "\n",
        "\n",
        "---"
      ],
      "metadata": {
        "id": "RGHI3kaK1I-A"
      }
    },
    {
      "cell_type": "markdown",
      "source": [
        "#**4. Statistical approach in A/B test:**\n",
        "\n",
        "\n",
        "---\n",
        "\n",
        "\n",
        "\n",
        "\n",
        "The different statistical approach ib A/B testing are:\n",
        "  * Frequentist Statistics\n",
        "  * Bayesian Statistics\n",
        "\n",
        "**Frequentist Statistics:**\n",
        "* Frequentist statistics calculates the probability of an event happening using a hypothesis. The samples are collected, then the null and alternate hypotheses are defined. The alternate hypothesis is the case we are trying to prove. Then with the help of the significance level and p-value, we either reject or accept the hypothesis.\n",
        "* The frequentist approach follows the center limit theorem.\n",
        "\n",
        "**Bayesian Statistics:**\n",
        "* Bayesian statistics follows Bayes's theorem. \n",
        "* With the help of the prior probability and the evidence (new observation), we derive the posterior probability in Bayesian statistics.\n",
        "* The prior distribution is performance differences between the control and the treatment group. After gathering information (evidence) on the performance of the control and treatment groups, the researcher uses Bayes' theorem to update the prior distribution and produce the posterior distribution.\n",
        "\n",
        "\n",
        "**For Instance**, Let's assume that we are performing an A/B test on whether to include Call-To-Action Button for the sales page on the Home page. \n",
        ">**Control Group:** There is no CTA button on the Home page\n",
        "\n",
        ">**Treatment Group:** has a CTA button on the Home page\n",
        "\n",
        "**Frequentist Approach:**\n",
        "\n",
        ">*Null hypothesis:* There is no difference in conversion\n",
        "\n",
        ">*Alternate hypothesis:* The treatment group has more conversion than the Control group.\n",
        "\n",
        "* With the help of significance level and p-value, either reject or accept the hypothesis.\n",
        "\n",
        "\n",
        "**Bayesian Approach:**\n",
        "* The Bayesian approach believes that there is an equal chance for both groups to improve performance. \n",
        "* With the help of each piece of evidence, we calculate the posterior probability and find out the group that performs well than the other.\n",
        "---\n",
        "\n"
      ],
      "metadata": {
        "id": "VY0HnH7uODA4"
      }
    },
    {
      "cell_type": "markdown",
      "source": [
        "#**5. Steps to perform the A/B Test**\n",
        "\n",
        "---\n",
        "The steps involved in the A/B test are:\n",
        "\n",
        "* Research \n",
        "* Choosing Test metric\n",
        "* Formulating Hypothesis\n",
        "* Creating Variations\n",
        "* Running test\n",
        "* Analysis the result\n",
        "* Formulating Conclusions and deploying results\n",
        "\n",
        "**Research:**\n",
        "* Research gives us a clear understanding of the site's performance and the need for optimization.\n",
        "* Research helps us find out the different optimizations that are to consider to improve performance. Such as a Change of title or including a CTA button etc.,\n",
        "\n",
        "**Choosing Test Metric:**\n",
        "* One of the most significant phases is selecting test metrics. What measure are we looking at, such as page views, sessions, or conversions, should be apparent.\n",
        "\n",
        "**Formulating Hypothesis:**\n",
        "\n",
        "* The null and alternate hypotheses for the test are defined to perform a statistical test.\n",
        "\n",
        "**Creating Variations:**\n",
        "* The different variations of the webpage according to the control and treatment group needs are created.\n",
        "\n",
        "**Running Test:**\n",
        "* The variations created are set into action in this phase and all the date and their respective metric data are collected.\n",
        "\n",
        "**Analysis the result:**\n",
        "\n",
        "* Determine whether there is a statistically significant difference between the control and treatment groups. With the help of the p-value, confidence intervals, or by applying Bayesian techniques, the winner model is determined.\n",
        "\n",
        "**Formulating Conclusions and deploying results:**\n",
        "* This is the final phase in A/B test, the results are analyed and if the performance is as expected then the model is deployed in real time.\n",
        "---"
      ],
      "metadata": {
        "id": "Fd0ue8AokEHp"
      }
    },
    {
      "cell_type": "markdown",
      "source": [
        "#**6. Advantages of A/B testing :**\n",
        "\n",
        "---\n",
        "\n",
        "* Google Mercandise store has a high cart abandonment rate, by performing A/B analysis that can be reduced.\n",
        "* We can get better Return on Investment with the existing customers by making effective optimisation over the website.\n",
        "* We can improve the user exprience, which in turn increases the product sales and reduce the bounce rate.\n",
        "* We can test out different optimizations to decrease the bounce rate.\n",
        "* Redesign the website based on future business gains.\n",
        "---"
      ],
      "metadata": {
        "id": "ewZKQ8bBt5N1"
      }
    },
    {
      "cell_type": "markdown",
      "source": [
        "#**7. Challenges in performing A/B testing:**\n",
        "\n",
        "---\n",
        "* There can be confusion in deciding what to test inorder to increase conversion\n",
        "* Formulating hypothesis is one of the crucial part, if the hypotheses is not defined correctly the test might not give us an expected results.\n",
        "* Determing the correct sample size can be challenge in A/B testing.\n",
        "* We might tend to look for a solution without running the test for a certain period of time. We cannot expect results in a short time with A/B testing.\n",
        "* There is a possibility that we wish to change the test setting in the middle of the campaign. This might affect the results of the campaign."
      ],
      "metadata": {
        "id": "FVR2LuVEvcLN"
      }
    }
  ]
}